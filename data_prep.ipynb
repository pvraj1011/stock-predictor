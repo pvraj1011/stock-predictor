{
 "cells": [
  {
   "cell_type": "markdown",
   "id": "a5eb8ee2",
   "metadata": {},
   "source": [
    "# 📌 IMPORTS"
   ]
  },
  {
   "cell_type": "code",
   "execution_count": 1,
   "id": "94e17abb",
   "metadata": {},
   "outputs": [],
   "source": [
    "import pandas as pd\n",
    "import numpy as np\n",
    "from ta.momentum import RSIIndicator\n",
    "from ta.trend import EMAIndicator, SMAIndicator, MACD\n",
    "from ta.volatility import BollingerBands\n",
    "from sklearn.ensemble import RandomForestClassifier\n",
    "from sklearn.preprocessing import StandardScaler\n",
    "from sklearn.model_selection import train_test_split\n",
    "import joblib\n",
    "from sklearn.metrics import accuracy_score\n"
   ]
  },
  {
   "cell_type": "markdown",
   "id": "65926c87",
   "metadata": {},
   "source": [
    "# 📌Stock list"
   ]
  },
  {
   "cell_type": "code",
   "execution_count": 2,
   "id": "c99ff6ea",
   "metadata": {},
   "outputs": [],
   "source": [
    "stocks = [\n",
    "    \"RELIANCE\", \"TCS\", \"INFY\", \"HDFCBANK\", \"ICICIBANK\",\n",
    "    \"LT\", \"BAJFINANCE\", \"SBIN\", \"HINDUNILVR\", \"MARUTI\"\n",
    "]"
   ]
  },
  {
   "cell_type": "markdown",
   "id": "62ef8eb4",
   "metadata": {},
   "source": [
    "# 📌 Function to compute indicators and train model\n"
   ]
  },
  {
   "cell_type": "code",
   "execution_count": 4,
   "id": "97dfeeb1",
   "metadata": {},
   "outputs": [
    {
     "name": "stdout",
     "output_type": "stream",
     "text": [
      "📈 Processing RELIANCE...\n",
      "✅ RELIANCE model trained with accuracy: 50.00\n",
      "\n",
      "✅ RELIANCE model & scaler saved.\n",
      "\n",
      "📈 Processing TCS...\n",
      "✅ TCS model trained with accuracy: 56.42\n",
      "\n",
      "✅ TCS model & scaler saved.\n",
      "\n",
      "📈 Processing INFY...\n",
      "✅ INFY model trained with accuracy: 53.50\n",
      "\n",
      "✅ INFY model & scaler saved.\n",
      "\n",
      "📈 Processing HDFCBANK...\n",
      "✅ HDFCBANK model trained with accuracy: 50.39\n",
      "\n",
      "✅ HDFCBANK model & scaler saved.\n",
      "\n",
      "📈 Processing ICICIBANK...\n",
      "✅ ICICIBANK model trained with accuracy: 51.95\n",
      "\n",
      "✅ ICICIBANK model & scaler saved.\n",
      "\n",
      "📈 Processing LT...\n",
      "✅ LT model trained with accuracy: 51.56\n",
      "\n",
      "✅ LT model & scaler saved.\n",
      "\n",
      "📈 Processing BAJFINANCE...\n",
      "✅ BAJFINANCE model trained with accuracy: 50.78\n",
      "\n",
      "✅ BAJFINANCE model & scaler saved.\n",
      "\n",
      "📈 Processing SBIN...\n",
      "✅ SBIN model trained with accuracy: 53.70\n",
      "\n",
      "✅ SBIN model & scaler saved.\n",
      "\n",
      "📈 Processing HINDUNILVR...\n",
      "✅ HINDUNILVR model trained with accuracy: 53.50\n",
      "\n",
      "✅ HINDUNILVR model & scaler saved.\n",
      "\n",
      "📈 Processing MARUTI...\n",
      "✅ MARUTI model trained with accuracy: 50.78\n",
      "\n",
      "✅ MARUTI model & scaler saved.\n",
      "\n"
     ]
    }
   ],
   "source": [
    "for stock in stocks:\n",
    "    print(f\"📈 Processing {stock}...\")\n",
    "\n",
    "    df = pd.read_csv(f\"data/{stock}.csv\", parse_dates=[\"Date\"])\n",
    "    df.set_index(\"Date\", inplace=True)\n",
    "    # print(df.head())\n",
    "    # print(\"___________________________________________________________________-\")\n",
    "    df[\"Close\"] = pd.to_numeric(df[\"Close\"], errors=\"coerce\")\n",
    "    # print(df.head())\n",
    "    df.dropna(subset=[\"Close\"], inplace=True)\n",
    "    # print(\"___________________________________________________________________-\")\n",
    "\n",
    "    # print(df.head())\n",
    "    \n",
    "\n",
    "    try:\n",
    "        df[\"SMA_14\"] = SMAIndicator(df[\"Close\"], window=14).sma_indicator()\n",
    "        df[\"EMA_14\"] = EMAIndicator(df[\"Close\"], window=14).ema_indicator()\n",
    "        df[\"RSI\"] = RSIIndicator(df[\"Close\"], window=14).rsi()\n",
    "\n",
    "        macd = MACD(df[\"Close\"])\n",
    "        df[\"MACD\"] = macd.macd()\n",
    "        df[\"MACD_signal\"] = macd.macd_signal()\n",
    "\n",
    "        bb = BollingerBands(df[\"Close\"])\n",
    "        df[\"BB_upper\"] = bb.bollinger_hband()\n",
    "        df[\"BB_lower\"] = bb.bollinger_lband()\n",
    "\n",
    "        # Target: 1 if next day price goes UP\n",
    "        df[\"Target\"] = (df[\"Close\"].shift(-1) > df[\"Close\"]).astype(int)\n",
    "        df.dropna(inplace=True)\n",
    "\n",
    "        # Features\n",
    "        features = [\"SMA_14\", \"EMA_14\", \"RSI\", \"MACD\", \"MACD_signal\", \"BB_upper\", \"BB_lower\"]\n",
    "        X = df[features]\n",
    "        y = df[\"Target\"]\n",
    "\n",
    "        scaler = StandardScaler()\n",
    "        X_scaled = scaler.fit_transform(X)\n",
    "\n",
    "        X_train, X_test, y_train, y_test = train_test_split(X_scaled, y, test_size=0.2, random_state=42)\n",
    "\n",
    "        model = RandomForestClassifier(random_state=42)\n",
    "        model.fit(X_train, y_train)\n",
    "        \n",
    "        y_pred = model.predict(X_test)\n",
    "        accuracy = accuracy_score(y_test, y_pred)\n",
    "        print(f\"✅ {stock} model trained with accuracy: {accuracy*100:.2f}\\n\")\n",
    "\n",
    "\n",
    "        # Save model and scaler\n",
    "        joblib.dump(model, f\"models/{stock}.pkl\")\n",
    "        joblib.dump(scaler, f\"models/{stock}_scaler.pkl\")\n",
    "\n",
    "        df.to_csv(f\"data/{stock}_features.csv\")\n",
    "\n",
    "        print(f\"✅ {stock} model & scaler saved.\\n\")\n",
    "\n",
    "    except Exception as e:\n",
    "        print(f\"❌ Error processing {stock}: {e}\\n\")"
   ]
  }
 ],
 "metadata": {
  "kernelspec": {
   "display_name": "venv",
   "language": "python",
   "name": "python3"
  },
  "language_info": {
   "codemirror_mode": {
    "name": "ipython",
    "version": 3
   },
   "file_extension": ".py",
   "mimetype": "text/x-python",
   "name": "python",
   "nbconvert_exporter": "python",
   "pygments_lexer": "ipython3",
   "version": "3.10.2"
  }
 },
 "nbformat": 4,
 "nbformat_minor": 5
}
